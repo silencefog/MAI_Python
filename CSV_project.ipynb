{
 "cells": [
  {
   "cell_type": "code",
   "execution_count": 1,
   "metadata": {},
   "outputs": [],
   "source": [
    "import pandas\n",
    "import csv\n",
    "import io\n",
    "import cx_Oracle"
   ]
  },
  {
   "cell_type": "markdown",
   "metadata": {},
   "source": [
    "Загружаем xlsx"
   ]
  },
  {
   "cell_type": "code",
   "execution_count": 2,
   "metadata": {},
   "outputs": [
    {
     "name": "stdout",
     "output_type": "stream",
     "text": [
      "0    Северо-Западный институт повышения квалификаци...\n",
      "1                        ФКУ \"НАЛОГ-СЕРВИС\" ФНС РОССИИ\n",
      "2                                ФКУ «ОДЕЗ ФНС РОССИИ»\n",
      "3                                            арваыраоы\n",
      "4                ФБЛПУ \"САНАТОРИЙ \"РАДУГА\" ФНС РОССИИ\"\n",
      "5                     ФБДОУ \"ДОЛ \"БЕРЕЗКА\" ФНС РОССИИ\"\n",
      "6                ФБЛПУ \"САНАТОРИЙ \"ЭЛЛАДА\" ФНС РОССИИ\"\n",
      "7                 ФБЛПУ «ЛРЦ «Подмосковье» ФНС России»\n",
      "Name: Название, dtype: object\n"
     ]
    }
   ],
   "source": [
    "DF = pandas.read_excel('C:\\\\Users\\\\ELENA\\\\Desktop\\\\Organizations.xlsx')\n",
    "org = DF['Название']\n",
    "DF['Телефон'] = \"\"\n",
    "print(org)"
   ]
  },
  {
   "cell_type": "markdown",
   "metadata": {},
   "source": [
    "Открываем csv и проверяем, есть ли совпадение по названию. Если да, то записываем номер телефона."
   ]
  },
  {
   "cell_type": "code",
   "execution_count": 3,
   "metadata": {},
   "outputs": [
    {
     "name": "stdout",
     "output_type": "stream",
     "text": [
      "No info for арваыраоы\n"
     ]
    },
    {
     "name": "stderr",
     "output_type": "stream",
     "text": [
      "C:\\Users\\ELENA\\Anaconda3\\lib\\site-packages\\ipykernel_launcher.py:13: SettingWithCopyWarning: \n",
      "A value is trying to be set on a copy of a slice from a DataFrame\n",
      "\n",
      "See the caveats in the documentation: http://pandas.pydata.org/pandas-docs/stable/indexing.html#indexing-view-versus-copy\n",
      "  del sys.path[0]\n"
     ]
    }
   ],
   "source": [
    "path = \"C:\\\\Users\\\\ELENA\\\\Desktop\\\\data-full.csv\"\n",
    "i = 0\n",
    "for o in org:\n",
    "    with io.open(path, encoding='utf-8') as f:\n",
    "        reader = csv.reader(f, delimiter=';')\n",
    "        first = True\n",
    "        for r in reader:\n",
    "            if first:\n",
    "                first = False\n",
    "                continue\n",
    "            name = r[1]\n",
    "            if name == o:\n",
    "                DF['Телефон'][i] = r[4]\n",
    "                break\n",
    "\n",
    "    if pandas.isna(DF['Телефон'][i]):\n",
    "        print(\"No info for {}\".format(o))\n",
    "    i += 1"
   ]
  },
  {
   "cell_type": "code",
   "execution_count": 4,
   "metadata": {},
   "outputs": [
    {
     "name": "stdout",
     "output_type": "stream",
     "text": [
      "0     7 (812) 492-20-58\n",
      "1     7 (495) 913-09-65\n",
      "2     7 (495) 606-71-94\n",
      "3                   NaN\n",
      "4     7 (8622) 90-72-02\n",
      "5     7 (496) 31-721-00\n",
      "6    7 (861) 33-3-35-82\n",
      "7     7 (495) 577-95-11\n",
      "Name: Телефон, dtype: object\n"
     ]
    }
   ],
   "source": [
    "print(DF['Телефон'])"
   ]
  },
  {
   "cell_type": "markdown",
   "metadata": {},
   "source": [
    "Создаём связь с базой данных"
   ]
  },
  {
   "cell_type": "code",
   "execution_count": 6,
   "metadata": {},
   "outputs": [],
   "source": [
    "cx_Oracle.init_oracle_client(lib_dir=\"C:\\\\oracle\\\\instantclient_19_8\")"
   ]
  },
  {
   "cell_type": "code",
   "execution_count": 7,
   "metadata": {},
   "outputs": [],
   "source": [
    "conn = cx_Oracle.connect(r'login', r'password', 'db202009151316_high')"
   ]
  },
  {
   "cell_type": "code",
   "execution_count": 8,
   "metadata": {},
   "outputs": [],
   "source": [
    "cursor = conn.cursor()"
   ]
  },
  {
   "cell_type": "markdown",
   "metadata": {},
   "source": [
    "Создаём таблицу"
   ]
  },
  {
   "cell_type": "code",
   "execution_count": 12,
   "metadata": {},
   "outputs": [],
   "source": [
    "cursor.execute(\"CREATE TABLE ORGANIZATIONS(name VARCHAR2(255),phnumber VARCHAR2(40))\")"
   ]
  },
  {
   "cell_type": "markdown",
   "metadata": {},
   "source": [
    "Если есть значение телефона, то записываем в таблицу"
   ]
  },
  {
   "cell_type": "code",
   "execution_count": 13,
   "metadata": {},
   "outputs": [],
   "source": [
    "for c in range(len(org)):\n",
    "    if not pandas.isna(DF['Телефон'][c]):\n",
    "        cursor.execute(\"INSERT INTO ORGANIZATIONS(name, phnumber) VALUES(:name, :phnumber)\", [DF['Название'][c], DF['Телефон'][c]])"
   ]
  },
  {
   "cell_type": "code",
   "execution_count": 14,
   "metadata": {},
   "outputs": [
    {
     "name": "stdout",
     "output_type": "stream",
     "text": [
      "[('Северо-Западный институт повышения квалификации Федеральной налоговой службы', '7 (812) 492-20-58'), ('ФКУ \"НАЛОГ-СЕРВИС\" ФНС РОССИИ', '7 (495) 913-09-65'), ('ФКУ «ОДЕЗ ФНС РОССИИ»', '7 (495) 606-71-94'), ('ФБЛПУ \"САНАТОРИЙ \"РАДУГА\" ФНС РОССИИ\"', '7 (8622) 90-72-02'), ('ФБДОУ \"ДОЛ \"БЕРЕЗКА\" ФНС РОССИИ\"', '7 (496) 31-721-00'), ('ФБЛПУ \"САНАТОРИЙ \"ЭЛЛАДА\" ФНС РОССИИ\"', '7 (861) 33-3-35-82'), ('ФБЛПУ «ЛРЦ «Подмосковье» ФНС России»', '7 (495) 577-95-11')]\n"
     ]
    }
   ],
   "source": [
    "cursor.execute(\"SELECT * FROM ORGANIZATIONS\")\n",
    "result = cursor.fetchall()\n",
    "print(result)"
   ]
  },
  {
   "cell_type": "code",
   "execution_count": 15,
   "metadata": {},
   "outputs": [],
   "source": [
    "conn.close()"
   ]
  },
  {
   "cell_type": "code",
   "execution_count": 11,
   "metadata": {},
   "outputs": [],
   "source": [
    "#cursor.execute(\"DROP TABLE ORGANIZATIONS\")"
   ]
  },
  {
   "cell_type": "code",
   "execution_count": null,
   "metadata": {},
   "outputs": [],
   "source": []
  }
 ],
 "metadata": {
  "kernelspec": {
   "display_name": "Python 3",
   "language": "python",
   "name": "python3"
  },
  "language_info": {
   "codemirror_mode": {
    "name": "ipython",
    "version": 3
   },
   "file_extension": ".py",
   "mimetype": "text/x-python",
   "name": "python",
   "nbconvert_exporter": "python",
   "pygments_lexer": "ipython3",
   "version": "3.7.0"
  }
 },
 "nbformat": 4,
 "nbformat_minor": 2
}
