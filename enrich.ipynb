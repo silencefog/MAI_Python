{
 "cells": [
  {
   "cell_type": "code",
   "execution_count": 1,
   "metadata": {},
   "outputs": [],
   "source": [
    "import cx_Oracle\n",
    "import csv\n",
    "import io"
   ]
  },
  {
   "cell_type": "code",
   "execution_count": 2,
   "metadata": {},
   "outputs": [],
   "source": [
    "cx_Oracle.init_oracle_client(lib_dir=\"your_dir\")"
   ]
  },
  {
   "cell_type": "code",
   "execution_count": 3,
   "metadata": {
    "scrolled": true
   },
   "outputs": [],
   "source": [
    "conn = cx_Oracle.connect(r'your_login', r'your_password', 'db202009151316_high')"
   ]
  },
  {
   "cell_type": "code",
   "execution_count": 4,
   "metadata": {},
   "outputs": [],
   "source": [
    "cursor = conn.cursor()"
   ]
  },
  {
   "cell_type": "code",
   "execution_count": 6,
   "metadata": {},
   "outputs": [],
   "source": [
    "cursor.execute(\"CREATE TABLE PHONES2(name VARCHAR2(100),phnumber VARCHAR2(40),phnumber_int NUMBER,inn NUMBER)\")"
   ]
  },
  {
   "cell_type": "code",
   "execution_count": 7,
   "metadata": {},
   "outputs": [],
   "source": [
    "def clearNumber(phone):\n",
    "    if (phone == \"\"):\n",
    "        return 0\n",
    "    rem = \" +()-\"\n",
    "    for char in rem:\n",
    "        phone = phone.replace(char, \"\")\n",
    "    numPh = int(phone)\n",
    "    return numPh"
   ]
  },
  {
   "cell_type": "code",
   "execution_count": 8,
   "metadata": {},
   "outputs": [],
   "source": [
    "path = \"file.csv\"\n",
    "with io.open(path, encoding='utf-8') as f:\n",
    "    reader = csv.reader(f, delimiter=';')\n",
    "    first = True\n",
    "    for r in reader:\n",
    "        if first:\n",
    "            first = False\n",
    "            continue\n",
    "        res = clearNumber(r[4])\n",
    "        cursor.execute(\"INSERT INTO PHONES2(name, phnumber, phnumber_int, inn) VALUES(:name, :phnumber, :phnumber_int, :inn)\", [r[3], r[4], res, r[7]])\n",
    "        conn.commit()"
   ]
  },
  {
   "cell_type": "code",
   "execution_count": 9,
   "metadata": {},
   "outputs": [
    {
     "name": "stdout",
     "output_type": "stream",
     "text": [
      "[('Филимошин Роман Владимирович', '7 (495) 913-09-65', 74959130965, 1024000939643), ('Мелешкин Михаил Федорович', None, 0, 1037700000095), ('Фесенко Павел Федорович', '7 (8622) 90-72-02', 78622907202, 1022302934873), ('Моcиенко Сергей Викторович', '7 (861) 33-3-35-82', 78613333582, 1022300513388), ('Лисицына Лариса Львовна', '7 (495) 577-95-11', 74955779511, 1165029054530), ('Матвиенко Алексей Павлович', None, 0, 1022502131190), ('Грищенко Юрий Владимирович', '7 10 (38065) 424-72-30', 710380654247230, 1026101345445), ('Тришина Елена Александровна', '7 (496) 31-721-00', 74963172100, 1025001820645), ('Беляков Николай Федорович', '7 (831) 437-08-30', 78314370830, 1025203041160), ('Мурашов Сергей Борисович', None, 0, 1027807590106)]\n"
     ]
    }
   ],
   "source": [
    "cursor.execute(\"SELECT * FROM PHONES2\")\n",
    "result = cursor.fetchall()\n",
    "print(result)"
   ]
  },
  {
   "cell_type": "code",
   "execution_count": 25,
   "metadata": {},
   "outputs": [],
   "source": [
    "cursor.execute(\"CREATE TABLE FULL(phnumber VARCHAR2(40),inn NUMBER)\")"
   ]
  },
  {
   "cell_type": "code",
   "execution_count": 26,
   "metadata": {},
   "outputs": [],
   "source": [
    "path = \"file-full.csv\"\n",
    "with io.open(path, encoding='utf-8') as f:\n",
    "    reader = csv.reader(f, delimiter=';')\n",
    "    first = True\n",
    "    for r in reader:\n",
    "        if first:\n",
    "            first = False\n",
    "            continue\n",
    "        cursor.execute(\"INSERT INTO FULL(phnumber, inn) VALUES(:phnumber, :inn)\", [r[4], r[7]])\n",
    "        conn.commit()"
   ]
  },
  {
   "cell_type": "code",
   "execution_count": 27,
   "metadata": {},
   "outputs": [
    {
     "name": "stdout",
     "output_type": "stream",
     "text": [
      "[('7 (495) 913-09-65', 1024000939643), ('7 (495) 606-71-94', 1037700000095), ('7 (8622) 90-72-02', 1022302934873), ('7 (861) 33-3-35-82', 1022300513388), ('7 (495) 577-95-11', 1165029054530), ('7 (4232) 24-02-56', 1022502131190), ('7 10 (38065) 424-72-30', 1026101345445), ('7 (496) 31-721-00', 1025001820645), ('7 (831) 437-08-30', 1025203041160), ('7 (812) 492-20-58', 1027807590106)]\n"
     ]
    }
   ],
   "source": [
    "cursor.execute(\"SELECT * FROM FULL\")\n",
    "result = cursor.fetchall()\n",
    "print(result)"
   ]
  },
  {
   "cell_type": "code",
   "execution_count": 11,
   "metadata": {},
   "outputs": [],
   "source": [
    "cursor.execute(\"UPDATE PHONES2 SET phnumber = (SELECT phnumber FROM FULL WHERE PHONES2.inn = FULL.inn) WHERE phnumber IS NULL\")"
   ]
  },
  {
   "cell_type": "code",
   "execution_count": 12,
   "metadata": {},
   "outputs": [
    {
     "name": "stdout",
     "output_type": "stream",
     "text": [
      "[('Филимошин Роман Владимирович', '7 (495) 913-09-65', 74959130965, 1024000939643), ('Мелешкин Михаил Федорович', '7 (495) 606-71-94', 0, 1037700000095), ('Фесенко Павел Федорович', '7 (8622) 90-72-02', 78622907202, 1022302934873), ('Моcиенко Сергей Викторович', '7 (861) 33-3-35-82', 78613333582, 1022300513388), ('Лисицына Лариса Львовна', '7 (495) 577-95-11', 74955779511, 1165029054530), ('Матвиенко Алексей Павлович', '7 (4232) 24-02-56', 0, 1022502131190), ('Грищенко Юрий Владимирович', '7 10 (38065) 424-72-30', 710380654247230, 1026101345445), ('Тришина Елена Александровна', '7 (496) 31-721-00', 74963172100, 1025001820645), ('Беляков Николай Федорович', '7 (831) 437-08-30', 78314370830, 1025203041160), ('Мурашов Сергей Борисович', '7 (812) 492-20-58', 0, 1027807590106)]\n"
     ]
    }
   ],
   "source": [
    "cursor.execute(\"SELECT * FROM PHONES2\")\n",
    "result = cursor.fetchall()\n",
    "print(result)"
   ]
  },
  {
   "cell_type": "code",
   "execution_count": 13,
   "metadata": {},
   "outputs": [],
   "source": [
    "conn.close()"
   ]
  },
  {
   "cell_type": "code",
   "execution_count": null,
   "metadata": {},
   "outputs": [],
   "source": []
  }
 ],
 "metadata": {
  "kernelspec": {
   "display_name": "Python 3",
   "language": "python",
   "name": "python3"
  },
  "language_info": {
   "codemirror_mode": {
    "name": "ipython",
    "version": 3
   },
   "file_extension": ".py",
   "mimetype": "text/x-python",
   "name": "python",
   "nbconvert_exporter": "python",
   "pygments_lexer": "ipython3",
   "version": "3.7.0"
  }
 },
 "nbformat": 4,
 "nbformat_minor": 2
}
